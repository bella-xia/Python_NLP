{
 "cells": [
  {
   "cell_type": "code",
   "execution_count": 15,
   "id": "2431cca2",
   "metadata": {},
   "outputs": [],
   "source": [
    "# Stemming"
   ]
  },
  {
   "cell_type": "code",
   "execution_count": 1,
   "id": "f0d81d5e",
   "metadata": {},
   "outputs": [],
   "source": [
    "# Five phases of reduction (Porter's Rule)\n",
    "\n",
    "# 1. Simple suffix\n",
    "#    SSES --> SS; ISE --> I; SS --> SS; S --> ' '\n",
    "# 2. Length / Complexity\n",
    "#    ATIONAL --> ATE; EED --> EE"
   ]
  },
  {
   "cell_type": "code",
   "execution_count": 2,
   "id": "9d495673",
   "metadata": {},
   "outputs": [],
   "source": [
    "# Snowball --> improved Porter's Rule"
   ]
  },
  {
   "cell_type": "code",
   "execution_count": 3,
   "id": "55e7a322",
   "metadata": {},
   "outputs": [],
   "source": [
    "import nltk"
   ]
  },
  {
   "cell_type": "code",
   "execution_count": 4,
   "id": "80b13e97",
   "metadata": {},
   "outputs": [],
   "source": [
    "from nltk.stem.porter import PorterStemmer"
   ]
  },
  {
   "cell_type": "code",
   "execution_count": 5,
   "id": "2bbf94b9",
   "metadata": {},
   "outputs": [],
   "source": [
    "p_stemmer = PorterStemmer()"
   ]
  },
  {
   "cell_type": "code",
   "execution_count": 7,
   "id": "88b48390",
   "metadata": {},
   "outputs": [],
   "source": [
    "words = ['run', 'runner', 'ran', 'runs', 'easily', 'fairly']"
   ]
  },
  {
   "cell_type": "code",
   "execution_count": 9,
   "id": "9bbe3521",
   "metadata": {},
   "outputs": [
    {
     "name": "stdout",
     "output_type": "stream",
     "text": [
      "run ---> run\n",
      "runner ---> runner\n",
      "ran ---> ran\n",
      "runs ---> run\n",
      "easily ---> easili\n",
      "fairly ---> fairli\n"
     ]
    }
   ],
   "source": [
    "for word in words:\n",
    "    print(word + ' ---> ' + p_stemmer.stem(word))"
   ]
  },
  {
   "cell_type": "code",
   "execution_count": 10,
   "id": "050ec990",
   "metadata": {},
   "outputs": [],
   "source": [
    "from nltk.stem.snowball import SnowballStemmer"
   ]
  },
  {
   "cell_type": "code",
   "execution_count": 11,
   "id": "1f391025",
   "metadata": {},
   "outputs": [],
   "source": [
    "s_stemmer = SnowballStemmer(language='english')"
   ]
  },
  {
   "cell_type": "code",
   "execution_count": 12,
   "id": "b1f86572",
   "metadata": {},
   "outputs": [
    {
     "name": "stdout",
     "output_type": "stream",
     "text": [
      "run ---> run\n",
      "runner ---> runner\n",
      "ran ---> ran\n",
      "runs ---> run\n",
      "easily ---> easili\n",
      "fairly ---> fair\n"
     ]
    }
   ],
   "source": [
    "for word in words:\n",
    "    print(word + ' ---> ' + s_stemmer.stem(word))"
   ]
  },
  {
   "cell_type": "code",
   "execution_count": 13,
   "id": "b1094c55",
   "metadata": {},
   "outputs": [],
   "source": [
    "words = ['generous', 'generation', 'generously', 'generate']"
   ]
  },
  {
   "cell_type": "code",
   "execution_count": 14,
   "id": "e10bc233",
   "metadata": {},
   "outputs": [
    {
     "name": "stdout",
     "output_type": "stream",
     "text": [
      "generous ---> generous\n",
      "generation ---> generat\n",
      "generously ---> generous\n",
      "generate ---> generat\n"
     ]
    }
   ],
   "source": [
    "for word in words:\n",
    "    print(word + ' ---> ' + s_stemmer.stem(word))"
   ]
  },
  {
   "cell_type": "code",
   "execution_count": 17,
   "id": "ee0399b5",
   "metadata": {},
   "outputs": [],
   "source": [
    "# Lemmatization\n",
    "# look at surrounding text to determine a given word's part of speech"
   ]
  },
  {
   "cell_type": "code",
   "execution_count": 18,
   "id": "08764776",
   "metadata": {},
   "outputs": [],
   "source": [
    "import spacy"
   ]
  },
  {
   "cell_type": "code",
   "execution_count": 20,
   "id": "b917990d",
   "metadata": {},
   "outputs": [],
   "source": [
    "nlp = spacy.load('en_core_web_sm')"
   ]
  },
  {
   "cell_type": "code",
   "execution_count": 21,
   "id": "c3267e45",
   "metadata": {},
   "outputs": [],
   "source": [
    "doc1 = nlp(u\"I am a runner running in a race because I love to run since I ran today\")"
   ]
  },
  {
   "cell_type": "code",
   "execution_count": 24,
   "id": "1d99f938",
   "metadata": {},
   "outputs": [
    {
     "name": "stdout",
     "output_type": "stream",
     "text": [
      "I \t PRON \t 4690420944186131903 \t I\n",
      "am \t AUX \t 10382539506755952630 \t be\n",
      "a \t DET \t 11901859001352538922 \t a\n",
      "runner \t NOUN \t 12640964157389618806 \t runner\n",
      "running \t VERB \t 12767647472892411841 \t run\n",
      "in \t ADP \t 3002984154512732771 \t in\n",
      "a \t DET \t 11901859001352538922 \t a\n",
      "race \t NOUN \t 8048469955494714898 \t race\n",
      "because \t SCONJ \t 16950148841647037698 \t because\n",
      "I \t PRON \t 4690420944186131903 \t I\n",
      "love \t VERB \t 3702023516439754181 \t love\n",
      "to \t PART \t 3791531372978436496 \t to\n",
      "run \t VERB \t 12767647472892411841 \t run\n",
      "since \t SCONJ \t 10066841407251338481 \t since\n",
      "I \t PRON \t 4690420944186131903 \t I\n",
      "ran \t VERB \t 12767647472892411841 \t run\n",
      "today \t NOUN \t 11042482332948150395 \t today\n"
     ]
    }
   ],
   "source": [
    "for token in doc1:\n",
    "    print(token.text, '\\t', token.pos_, '\\t', token.lemma, '\\t', token.lemma_)"
   ]
  },
  {
   "cell_type": "code",
   "execution_count": 25,
   "id": "2c25ef42",
   "metadata": {},
   "outputs": [],
   "source": [
    "def show_lemmas(text):\n",
    "    for token in text:\n",
    "        print(f'{token.text:{12}}{token.pos_:{6}}{token.lemma:<{22}}{token.lemma_}')"
   ]
  },
  {
   "cell_type": "code",
   "execution_count": 26,
   "id": "ba2410b2",
   "metadata": {},
   "outputs": [
    {
     "name": "stdout",
     "output_type": "stream",
     "text": [
      "I           PRON  4690420944186131903   I\n",
      "am          AUX   10382539506755952630  be\n",
      "a           DET   11901859001352538922  a\n",
      "runner      NOUN  12640964157389618806  runner\n",
      "running     VERB  12767647472892411841  run\n",
      "in          ADP   3002984154512732771   in\n",
      "a           DET   11901859001352538922  a\n",
      "race        NOUN  8048469955494714898   race\n",
      "because     SCONJ 16950148841647037698  because\n",
      "I           PRON  4690420944186131903   I\n",
      "love        VERB  3702023516439754181   love\n",
      "to          PART  3791531372978436496   to\n",
      "run         VERB  12767647472892411841  run\n",
      "since       SCONJ 10066841407251338481  since\n",
      "I           PRON  4690420944186131903   I\n",
      "ran         VERB  12767647472892411841  run\n",
      "today       NOUN  11042482332948150395  today\n"
     ]
    }
   ],
   "source": [
    "show_lemmas(doc1)"
   ]
  },
  {
   "cell_type": "code",
   "execution_count": 27,
   "id": "dff64f75",
   "metadata": {},
   "outputs": [],
   "source": [
    "doc2 = nlp(u\"I saw ten mice today!\")"
   ]
  },
  {
   "cell_type": "code",
   "execution_count": 28,
   "id": "7e4b7bdc",
   "metadata": {},
   "outputs": [
    {
     "name": "stdout",
     "output_type": "stream",
     "text": [
      "I           PRON  4690420944186131903   I\n",
      "saw         VERB  11925638236994514241  see\n",
      "ten         NUM   7970704286052693043   ten\n",
      "mice        NOUN  1384165645700560590   mouse\n",
      "today       NOUN  11042482332948150395  today\n",
      "!           PUNCT 17494803046312582752  !\n"
     ]
    }
   ],
   "source": [
    "show_lemmas(doc2)"
   ]
  },
  {
   "cell_type": "code",
   "execution_count": 29,
   "id": "f45b6a88",
   "metadata": {},
   "outputs": [],
   "source": [
    "# Stop Words"
   ]
  },
  {
   "cell_type": "code",
   "execution_count": 30,
   "id": "dd941440",
   "metadata": {},
   "outputs": [
    {
     "name": "stdout",
     "output_type": "stream",
     "text": [
      "{'beside', 'nobody', 'empty', 'never', 'across', 'did', 'thereafter', 'our', 'am', 'becomes', 'whereafter', 'third', 'seem', 'whole', 'n’t', 'every', '’ll', 'many', 'name', 'some', \"'s\", 'because', 'amount', 'four', 'nor', 'either', 'since', 'myself', 'have', 'get', 'nevertheless', 'itself', 'done', 'been', \"'re\", 'formerly', 'whom', 'serious', 'their', 'they', 'whose', 'former', 'these', 'least', 'back', 'between', 'latter', 'yet', 'thereupon', 'three', 'on', 'hundred', 'else', 'which', 'out', 'upon', 'something', 'under', 'towards', '’ve', 'be', 'thru', 'elsewhere', 'too', 'even', 'often', 'thence', 'throughout', 'well', 'becoming', 'top', 'herself', 'again', 'most', 'down', 'hereby', 'give', '‘ll', 'afterwards', 'for', 'next', 'or', 'could', 'she', 'during', 'so', 're', 'amongst', 'toward', 'just', '‘ve', 'where', 'through', 'go', 'via', 'i', 'put', 'seeming', 'them', 'quite', '’m', 'cannot', 'take', 'whatever', 'his', 'around', 'none', 'see', 'perhaps', 'the', 'few', 'both', 'one', 'once', 'nine', 'has', 'eleven', 'nothing', 'your', 'ourselves', 'below', 'twelve', 'hers', 'no', 'you', 'last', 'whence', 'almost', 'that', 'two', 'enough', 'over', 'therein', 'whereas', 'would', 'and', 'by', 'without', 'whereupon', 'me', 'whither', 'now', 'it', 'were', 'to', 'her', 'first', 'namely', 'there', 'about', 'those', 'before', 'within', 'not', 'nowhere', 'besides', 'into', 'though', 'thereby', 'hence', 'noone', 'further', 'he', 'ever', 'say', 'above', 'per', 'each', 'still', 'made', 'beyond', 'while', 'do', 'is', 'doing', 'sometimes', 'such', 'several', 'must', 'latterly', 'rather', 'up', 'due', 'being', 'six', 'but', 'forty', 'except', 'among', 'thus', 'yourself', 'front', 'own', 'fifteen', 'neither', 'various', 'show', 'sometime', 'are', 'regarding', 'unless', 'n‘t', 'anything', 'together', 'bottom', 'make', 'of', 'however', 'then', 'this', '’d', 'herein', 'might', 'everyone', '’re', 'behind', 'themselves', 'hereafter', 'can', 'always', 'does', 'will', \"'m\", 'wherever', 'beforehand', 'against', \"'d\", 'after', '‘re', 'if', 'five', '‘s', 'side', \"'ve\", 'whether', 'mine', 'other', 'everywhere', 'everything', 'onto', 'also', 'him', 'really', 'already', 'seemed', 'when', 'twenty', 'himself', 'as', 'what', 'here', 'keep', 'please', 'until', 'off', 'ca', 'from', 'a', 'very', 'had', 'than', 'used', 'although', 'move', 'part', 'somewhere', 'call', 'therefore', \"n't\", 'us', 'same', 'ten', 'become', 'in', 'my', 'an', 'anywhere', 'may', 'who', 'along', 'much', 'ours', 'anyway', 'we', 'was', 'whoever', 'eight', 'only', 'how', 'meanwhile', 'full', 'mostly', 'somehow', 'anyone', \"'ll\", '‘m', 'wherein', 'hereupon', 'at', 'whenever', 'others', 'otherwise', 'another', 'became', 'seems', 'any', 'its', 'alone', 'moreover', 'all', 'someone', 'using', 'why', '’s', 'yours', '‘d', 'with', 'anyhow', 'fifty', 'sixty', 'yourselves', 'indeed', 'whereby', 'less', 'more', 'should'}\n"
     ]
    }
   ],
   "source": [
    "print(nlp.Defaults.stop_words)"
   ]
  },
  {
   "cell_type": "code",
   "execution_count": 31,
   "id": "2037eef2",
   "metadata": {},
   "outputs": [
    {
     "data": {
      "text/plain": [
       "326"
      ]
     },
     "execution_count": 31,
     "metadata": {},
     "output_type": "execute_result"
    }
   ],
   "source": [
    "len(nlp.Defaults.stop_words)"
   ]
  },
  {
   "cell_type": "code",
   "execution_count": 34,
   "id": "7432ffcc",
   "metadata": {},
   "outputs": [
    {
     "data": {
      "text/plain": [
       "True"
      ]
     },
     "execution_count": 34,
     "metadata": {},
     "output_type": "execute_result"
    }
   ],
   "source": [
    "nlp.vocab['is'].is_stop"
   ]
  },
  {
   "cell_type": "code",
   "execution_count": 35,
   "id": "35679ae8",
   "metadata": {},
   "outputs": [
    {
     "data": {
      "text/plain": [
       "False"
      ]
     },
     "execution_count": 35,
     "metadata": {},
     "output_type": "execute_result"
    }
   ],
   "source": [
    "nlp.vocab['mystery'].is_stop"
   ]
  },
  {
   "cell_type": "code",
   "execution_count": 36,
   "id": "f12f6cbd",
   "metadata": {},
   "outputs": [],
   "source": [
    "nlp.Defaults.stop_words.add('btw')"
   ]
  },
  {
   "cell_type": "code",
   "execution_count": 37,
   "id": "c6316d94",
   "metadata": {},
   "outputs": [],
   "source": [
    "nlp.vocab['btw'].is_stop = True"
   ]
  },
  {
   "cell_type": "code",
   "execution_count": 38,
   "id": "e78903b4",
   "metadata": {},
   "outputs": [
    {
     "data": {
      "text/plain": [
       "327"
      ]
     },
     "execution_count": 38,
     "metadata": {},
     "output_type": "execute_result"
    }
   ],
   "source": [
    "len(nlp.Defaults.stop_words)"
   ]
  },
  {
   "cell_type": "code",
   "execution_count": 39,
   "id": "27f17694",
   "metadata": {},
   "outputs": [],
   "source": [
    "nlp.Defaults.stop_words.remove('beyond')"
   ]
  },
  {
   "cell_type": "code",
   "execution_count": 40,
   "id": "5adb09ed",
   "metadata": {},
   "outputs": [],
   "source": [
    "nlp.vocab['beyond'].is_stop = False"
   ]
  },
  {
   "cell_type": "code",
   "execution_count": 41,
   "id": "f059bae9",
   "metadata": {},
   "outputs": [
    {
     "data": {
      "text/plain": [
       "False"
      ]
     },
     "execution_count": 41,
     "metadata": {},
     "output_type": "execute_result"
    }
   ],
   "source": [
    "nlp.vocab['beyond'].is_stop"
   ]
  },
  {
   "cell_type": "code",
   "execution_count": 42,
   "id": "3c5dbfa3",
   "metadata": {},
   "outputs": [
    {
     "data": {
      "text/plain": [
       "326"
      ]
     },
     "execution_count": 42,
     "metadata": {},
     "output_type": "execute_result"
    }
   ],
   "source": [
    "len(nlp.Defaults.stop_words)"
   ]
  },
  {
   "cell_type": "code",
   "execution_count": null,
   "id": "6309f551",
   "metadata": {},
   "outputs": [],
   "source": []
  }
 ],
 "metadata": {
  "kernelspec": {
   "display_name": "Python 3 (ipykernel)",
   "language": "python",
   "name": "python3"
  },
  "language_info": {
   "codemirror_mode": {
    "name": "ipython",
    "version": 3
   },
   "file_extension": ".py",
   "mimetype": "text/x-python",
   "name": "python",
   "nbconvert_exporter": "python",
   "pygments_lexer": "ipython3",
   "version": "3.9.12"
  }
 },
 "nbformat": 4,
 "nbformat_minor": 5
}
