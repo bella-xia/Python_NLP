{
 "cells": [
  {
   "cell_type": "code",
   "execution_count": 1,
   "id": "e0d1d97f",
   "metadata": {},
   "outputs": [],
   "source": [
    "import spacy"
   ]
  },
  {
   "cell_type": "code",
   "execution_count": 2,
   "id": "54b209dd",
   "metadata": {},
   "outputs": [],
   "source": [
    "nlp = spacy.load('en_core_web_sm')"
   ]
  },
  {
   "cell_type": "code",
   "execution_count": 3,
   "id": "f3e73e03",
   "metadata": {},
   "outputs": [],
   "source": [
    "from spacy.matcher import Matcher"
   ]
  },
  {
   "cell_type": "code",
   "execution_count": 4,
   "id": "0c935dad",
   "metadata": {},
   "outputs": [],
   "source": [
    "matcher = Matcher(nlp.vocab)"
   ]
  },
  {
   "cell_type": "code",
   "execution_count": 10,
   "id": "aee22469",
   "metadata": {},
   "outputs": [],
   "source": [
    "# SolarPower\n",
    "# Solar-power\n",
    "# Solar power\n",
    "pattern1 = [{'LOWER':'solarpower'}]\n",
    "pattern2 = [{'LOWER':'solar'},{'IS_PUNCT':True},{'LOWER':'power'}]\n",
    "pattern3 = [{'LOWER':'solar'},{'LOWER':'power'}]"
   ]
  },
  {
   "cell_type": "code",
   "execution_count": 12,
   "id": "40fd5fd4",
   "metadata": {},
   "outputs": [],
   "source": [
    "matcher.add('SolarPower',[pattern1, pattern2, pattern3])"
   ]
  },
  {
   "cell_type": "code",
   "execution_count": 13,
   "id": "38f577ab",
   "metadata": {},
   "outputs": [],
   "source": [
    "doc = nlp(u\"The Solar Power industry continues to grow as solarpower increases. Solar-power is amazing\")"
   ]
  },
  {
   "cell_type": "code",
   "execution_count": 14,
   "id": "51b47926",
   "metadata": {},
   "outputs": [],
   "source": [
    "found_matches = matcher(doc)"
   ]
  },
  {
   "cell_type": "code",
   "execution_count": 15,
   "id": "d63d1375",
   "metadata": {},
   "outputs": [
    {
     "name": "stdout",
     "output_type": "stream",
     "text": [
      "[(8656102463236116519, 1, 3), (8656102463236116519, 8, 9), (8656102463236116519, 11, 14)]\n"
     ]
    }
   ],
   "source": [
    "print(found_matches)"
   ]
  },
  {
   "cell_type": "code",
   "execution_count": 19,
   "id": "9abfa5d5",
   "metadata": {},
   "outputs": [],
   "source": [
    "def print_matches(found_matches, doc):\n",
    "    for match_id, start, end in found_matches:\n",
    "        string_id = nlp.vocab.strings[match_id]\n",
    "        span = doc[start:end]\n",
    "        print(match_id, string_id, start, end, span.text)"
   ]
  },
  {
   "cell_type": "code",
   "execution_count": 20,
   "id": "e62b04ff",
   "metadata": {},
   "outputs": [
    {
     "name": "stdout",
     "output_type": "stream",
     "text": [
      "8656102463236116519 SolarPower 1 3 Solar Power\n",
      "8656102463236116519 SolarPower 8 9 solarpower\n",
      "8656102463236116519 SolarPower 11 14 Solar-power\n"
     ]
    }
   ],
   "source": [
    "print_matches(found_matches, doc)"
   ]
  },
  {
   "cell_type": "code",
   "execution_count": 32,
   "id": "92d5882c",
   "metadata": {},
   "outputs": [],
   "source": [
    "matcher.remove('SolarPower')"
   ]
  },
  {
   "cell_type": "code",
   "execution_count": 33,
   "id": "9d3332cd",
   "metadata": {},
   "outputs": [],
   "source": [
    "pattern1 = [{'LOWER':'solarpower'}]\n",
    "pattern2 = [{'LOWER':'solar'}, {'IS_PUNCT':True, 'OP':'*'},{'LOWER':'power'}]"
   ]
  },
  {
   "cell_type": "code",
   "execution_count": 34,
   "id": "364c3083",
   "metadata": {},
   "outputs": [],
   "source": [
    "matcher.add('SolarPower',[pattern1, pattern2])"
   ]
  },
  {
   "cell_type": "code",
   "execution_count": 35,
   "id": "23675b24",
   "metadata": {},
   "outputs": [],
   "source": [
    "doc2 = nlp(u\"solar--power is solarpower yay solar power!\")"
   ]
  },
  {
   "cell_type": "code",
   "execution_count": 36,
   "id": "37d8ad77",
   "metadata": {},
   "outputs": [],
   "source": [
    "found_matches2 = matcher(doc2)"
   ]
  },
  {
   "cell_type": "code",
   "execution_count": 37,
   "id": "f41f7256",
   "metadata": {},
   "outputs": [
    {
     "name": "stdout",
     "output_type": "stream",
     "text": [
      "8656102463236116519 SolarPower 0 3 solar--power\n",
      "8656102463236116519 SolarPower 4 5 solarpower\n",
      "8656102463236116519 SolarPower 6 8 solar power\n"
     ]
    }
   ],
   "source": [
    "print_matches(found_matches2, doc2)"
   ]
  },
  {
   "cell_type": "code",
   "execution_count": 38,
   "id": "d56d02d1",
   "metadata": {},
   "outputs": [],
   "source": [
    "matcher.remove('SolarPower')\n",
    "matcher.add('SolarPower',[pattern2])"
   ]
  },
  {
   "cell_type": "code",
   "execution_count": 39,
   "id": "4dcfb848",
   "metadata": {},
   "outputs": [
    {
     "name": "stdout",
     "output_type": "stream",
     "text": [
      "8656102463236116519 SolarPower 0 3 solar--power\n",
      "8656102463236116519 SolarPower 6 8 solar power\n"
     ]
    }
   ],
   "source": [
    "found_matches2 = matcher(doc2)\n",
    "print_matches(found_matches2, doc2)"
   ]
  },
  {
   "cell_type": "code",
   "execution_count": 40,
   "id": "3bc56dc9",
   "metadata": {},
   "outputs": [],
   "source": [
    "from spacy.matcher import PhraseMatcher"
   ]
  },
  {
   "cell_type": "code",
   "execution_count": 41,
   "id": "09055279",
   "metadata": {},
   "outputs": [],
   "source": [
    "matcher = PhraseMatcher(nlp.vocab)"
   ]
  },
  {
   "cell_type": "code",
   "execution_count": 43,
   "id": "5d89e580",
   "metadata": {},
   "outputs": [],
   "source": [
    "with open('../TextFiles/reaganomics.txt', encoding='cp1252') as f:\n",
    "    doc3 = nlp(f.read())"
   ]
  },
  {
   "cell_type": "code",
   "execution_count": 44,
   "id": "1e3f141e",
   "metadata": {},
   "outputs": [],
   "source": [
    "phrase_list = ['voodoo economics', 'supply-side economics', 'trickle-down economics', 'free-market economics']"
   ]
  },
  {
   "cell_type": "code",
   "execution_count": 45,
   "id": "37481adc",
   "metadata": {},
   "outputs": [],
   "source": [
    "phrase_patterns = [nlp(text) for text in phrase_list]"
   ]
  },
  {
   "cell_type": "code",
   "execution_count": 47,
   "id": "1d23d0de",
   "metadata": {},
   "outputs": [],
   "source": [
    "matcher.add('EconMatcher', [*phrase_patterns])"
   ]
  },
  {
   "cell_type": "code",
   "execution_count": 48,
   "id": "f4d7c033",
   "metadata": {},
   "outputs": [],
   "source": [
    "found_matches = matcher(doc3)"
   ]
  },
  {
   "cell_type": "code",
   "execution_count": 49,
   "id": "8617123e",
   "metadata": {},
   "outputs": [
    {
     "name": "stdout",
     "output_type": "stream",
     "text": [
      "[(3680293220734633682, 41, 45), (3680293220734633682, 49, 53), (3680293220734633682, 54, 56), (3680293220734633682, 61, 65), (3680293220734633682, 673, 677), (3680293220734633682, 2987, 2991)]\n"
     ]
    }
   ],
   "source": [
    "print(found_matches)"
   ]
  },
  {
   "cell_type": "code",
   "execution_count": 50,
   "id": "da5330e5",
   "metadata": {},
   "outputs": [
    {
     "name": "stdout",
     "output_type": "stream",
     "text": [
      "3680293220734633682 EconMatcher 41 45 supply-side economics\n",
      "3680293220734633682 EconMatcher 49 53 trickle-down economics\n",
      "3680293220734633682 EconMatcher 54 56 voodoo economics\n",
      "3680293220734633682 EconMatcher 61 65 free-market economics\n",
      "3680293220734633682 EconMatcher 673 677 supply-side economics\n",
      "3680293220734633682 EconMatcher 2987 2991 trickle-down economics\n"
     ]
    }
   ],
   "source": [
    "print_matches(found_matches, doc3)"
   ]
  },
  {
   "cell_type": "code",
   "execution_count": 51,
   "id": "9b95a774",
   "metadata": {},
   "outputs": [],
   "source": [
    "def print_matches_with_context(found_matches, doc):\n",
    "    for match_id, start, end in found_matches:\n",
    "        string_id = nlp.vocab.strings[match_id]\n",
    "        span = doc[start-5:end+5]\n",
    "        print(match_id, string_id, start, end, span.text)"
   ]
  },
  {
   "cell_type": "code",
   "execution_count": 52,
   "id": "b226188f",
   "metadata": {},
   "outputs": [
    {
     "name": "stdout",
     "output_type": "stream",
     "text": [
      "3680293220734633682 EconMatcher 41 45 policies are commonly associated with supply-side economics, referred to as trickle\n",
      "3680293220734633682 EconMatcher 49 53 economics, referred to as trickle-down economics or voodoo economics by political\n",
      "3680293220734633682 EconMatcher 54 56 trickle-down economics or voodoo economics by political opponents, and\n",
      "3680293220734633682 EconMatcher 61 65 by political opponents, and free-market economics by political advocates.\n",
      "\n",
      "\n",
      "3680293220734633682 EconMatcher 673 677 attracted a following from the supply-side economics movement, which formed in\n",
      "3680293220734633682 EconMatcher 2987 2991 became widely known as \"trickle-down economics\", due to the\n"
     ]
    }
   ],
   "source": [
    "print_matches_with_context(found_matches, doc3)"
   ]
  },
  {
   "cell_type": "code",
   "execution_count": null,
   "id": "c186c307",
   "metadata": {},
   "outputs": [],
   "source": []
  }
 ],
 "metadata": {
  "kernelspec": {
   "display_name": "Python 3 (ipykernel)",
   "language": "python",
   "name": "python3"
  },
  "language_info": {
   "codemirror_mode": {
    "name": "ipython",
    "version": 3
   },
   "file_extension": ".py",
   "mimetype": "text/x-python",
   "name": "python",
   "nbconvert_exporter": "python",
   "pygments_lexer": "ipython3",
   "version": "3.9.12"
  }
 },
 "nbformat": 4,
 "nbformat_minor": 5
}
