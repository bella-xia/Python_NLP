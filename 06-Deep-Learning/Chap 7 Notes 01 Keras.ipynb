{
 "cells": [
  {
   "cell_type": "code",
   "execution_count": 1,
   "id": "1f0e0bab",
   "metadata": {},
   "outputs": [],
   "source": [
    "import numpy as np"
   ]
  },
  {
   "cell_type": "code",
   "execution_count": 2,
   "id": "3965b3f2",
   "metadata": {},
   "outputs": [],
   "source": [
    "from sklearn.datasets import load_iris"
   ]
  },
  {
   "cell_type": "code",
   "execution_count": 4,
   "id": "a178a31b",
   "metadata": {},
   "outputs": [],
   "source": [
    "iris = load_iris()"
   ]
  },
  {
   "cell_type": "code",
   "execution_count": 5,
   "id": "2c2051aa",
   "metadata": {},
   "outputs": [
    {
     "data": {
      "text/plain": [
       "sklearn.utils.Bunch"
      ]
     },
     "execution_count": 5,
     "metadata": {},
     "output_type": "execute_result"
    }
   ],
   "source": [
    "type(iris)"
   ]
  },
  {
   "cell_type": "code",
   "execution_count": 6,
   "id": "ddb1bdcb",
   "metadata": {},
   "outputs": [
    {
     "name": "stdout",
     "output_type": "stream",
     "text": [
      ".. _iris_dataset:\n",
      "\n",
      "Iris plants dataset\n",
      "--------------------\n",
      "\n",
      "**Data Set Characteristics:**\n",
      "\n",
      "    :Number of Instances: 150 (50 in each of three classes)\n",
      "    :Number of Attributes: 4 numeric, predictive attributes and the class\n",
      "    :Attribute Information:\n",
      "        - sepal length in cm\n",
      "        - sepal width in cm\n",
      "        - petal length in cm\n",
      "        - petal width in cm\n",
      "        - class:\n",
      "                - Iris-Setosa\n",
      "                - Iris-Versicolour\n",
      "                - Iris-Virginica\n",
      "                \n",
      "    :Summary Statistics:\n",
      "\n",
      "    ============== ==== ==== ======= ===== ====================\n",
      "                    Min  Max   Mean    SD   Class Correlation\n",
      "    ============== ==== ==== ======= ===== ====================\n",
      "    sepal length:   4.3  7.9   5.84   0.83    0.7826\n",
      "    sepal width:    2.0  4.4   3.05   0.43   -0.4194\n",
      "    petal length:   1.0  6.9   3.76   1.76    0.9490  (high!)\n",
      "    petal width:    0.1  2.5   1.20   0.76    0.9565  (high!)\n",
      "    ============== ==== ==== ======= ===== ====================\n",
      "\n",
      "    :Missing Attribute Values: None\n",
      "    :Class Distribution: 33.3% for each of 3 classes.\n",
      "    :Creator: R.A. Fisher\n",
      "    :Donor: Michael Marshall (MARSHALL%PLU@io.arc.nasa.gov)\n",
      "    :Date: July, 1988\n",
      "\n",
      "The famous Iris database, first used by Sir R.A. Fisher. The dataset is taken\n",
      "from Fisher's paper. Note that it's the same as in R, but not as in the UCI\n",
      "Machine Learning Repository, which has two wrong data points.\n",
      "\n",
      "This is perhaps the best known database to be found in the\n",
      "pattern recognition literature.  Fisher's paper is a classic in the field and\n",
      "is referenced frequently to this day.  (See Duda & Hart, for example.)  The\n",
      "data set contains 3 classes of 50 instances each, where each class refers to a\n",
      "type of iris plant.  One class is linearly separable from the other 2; the\n",
      "latter are NOT linearly separable from each other.\n",
      "\n",
      ".. topic:: References\n",
      "\n",
      "   - Fisher, R.A. \"The use of multiple measurements in taxonomic problems\"\n",
      "     Annual Eugenics, 7, Part II, 179-188 (1936); also in \"Contributions to\n",
      "     Mathematical Statistics\" (John Wiley, NY, 1950).\n",
      "   - Duda, R.O., & Hart, P.E. (1973) Pattern Classification and Scene Analysis.\n",
      "     (Q327.D83) John Wiley & Sons.  ISBN 0-471-22361-1.  See page 218.\n",
      "   - Dasarathy, B.V. (1980) \"Nosing Around the Neighborhood: A New System\n",
      "     Structure and Classification Rule for Recognition in Partially Exposed\n",
      "     Environments\".  IEEE Transactions on Pattern Analysis and Machine\n",
      "     Intelligence, Vol. PAMI-2, No. 1, 67-71.\n",
      "   - Gates, G.W. (1972) \"The Reduced Nearest Neighbor Rule\".  IEEE Transactions\n",
      "     on Information Theory, May 1972, 431-433.\n",
      "   - See also: 1988 MLC Proceedings, 54-64.  Cheeseman et al\"s AUTOCLASS II\n",
      "     conceptual clustering system finds 3 classes in the data.\n",
      "   - Many, many more ...\n"
     ]
    }
   ],
   "source": [
    "print(iris.DESCR)"
   ]
  },
  {
   "cell_type": "code",
   "execution_count": 7,
   "id": "465b3728",
   "metadata": {},
   "outputs": [],
   "source": [
    "X = iris.data"
   ]
  },
  {
   "cell_type": "code",
   "execution_count": 10,
   "id": "8f53e21e",
   "metadata": {},
   "outputs": [],
   "source": [
    "y = iris.target"
   ]
  },
  {
   "cell_type": "code",
   "execution_count": 15,
   "id": "f9c93b2e",
   "metadata": {},
   "outputs": [],
   "source": [
    "from keras.utils import to_categorical"
   ]
  },
  {
   "cell_type": "code",
   "execution_count": 16,
   "id": "86656d85",
   "metadata": {},
   "outputs": [],
   "source": [
    "y = to_categorical(y)"
   ]
  },
  {
   "cell_type": "code",
   "execution_count": 17,
   "id": "6c1fc807",
   "metadata": {},
   "outputs": [
    {
     "data": {
      "text/plain": [
       "(150, 3)"
      ]
     },
     "execution_count": 17,
     "metadata": {},
     "output_type": "execute_result"
    }
   ],
   "source": [
    "y.shape"
   ]
  },
  {
   "cell_type": "code",
   "execution_count": 19,
   "id": "eff1a7e0",
   "metadata": {},
   "outputs": [],
   "source": [
    "from sklearn.model_selection import train_test_split"
   ]
  },
  {
   "cell_type": "code",
   "execution_count": 20,
   "id": "5d44164b",
   "metadata": {},
   "outputs": [],
   "source": [
    "X_train, X_test, y_train, y_test = train_test_split(X, y, test_size=0.33, random_state=42)"
   ]
  },
  {
   "cell_type": "code",
   "execution_count": 21,
   "id": "2a956a99",
   "metadata": {},
   "outputs": [],
   "source": [
    "from sklearn.preprocessing import MinMaxScaler"
   ]
  },
  {
   "cell_type": "code",
   "execution_count": 22,
   "id": "80519f56",
   "metadata": {},
   "outputs": [],
   "source": [
    "scaler_object = MinMaxScaler()"
   ]
  },
  {
   "cell_type": "code",
   "execution_count": 23,
   "id": "7ff5dbee",
   "metadata": {},
   "outputs": [
    {
     "data": {
      "text/plain": [
       "MinMaxScaler()"
      ]
     },
     "execution_count": 23,
     "metadata": {},
     "output_type": "execute_result"
    }
   ],
   "source": [
    "scaler_object.fit(X_train)"
   ]
  },
  {
   "cell_type": "code",
   "execution_count": 24,
   "id": "507250a5",
   "metadata": {},
   "outputs": [],
   "source": [
    "scaled_X_train = scaler_object.transform(X_train)"
   ]
  },
  {
   "cell_type": "code",
   "execution_count": 25,
   "id": "57ef88b2",
   "metadata": {},
   "outputs": [],
   "source": [
    "scaled_X_test = scaler_object.transform(X_test)"
   ]
  },
  {
   "cell_type": "code",
   "execution_count": 26,
   "id": "ddc0e22d",
   "metadata": {},
   "outputs": [],
   "source": [
    "from keras.models import Sequential\n",
    "from keras.layers import Dense"
   ]
  },
  {
   "cell_type": "code",
   "execution_count": 27,
   "id": "80ced062",
   "metadata": {},
   "outputs": [
    {
     "name": "stderr",
     "output_type": "stream",
     "text": [
      "2023-03-26 11:27:46.368816: I tensorflow/core/platform/cpu_feature_guard.cc:193] This TensorFlow binary is optimized with oneAPI Deep Neural Network Library (oneDNN) to use the following CPU instructions in performance-critical operations:  SSE4.1 SSE4.2 AVX AVX2 AVX512F AVX512_VNNI FMA\n",
      "To enable them in other operations, rebuild TensorFlow with the appropriate compiler flags.\n"
     ]
    }
   ],
   "source": [
    "model = Sequential()\n",
    "model.add(Dense(8, input_dim=4, activation='relu'))\n",
    "model.add(Dense(8, input_dim=4, activation='relu'))\n",
    "model.add(Dense(3, activation='softmax'))\n",
    "model.compile(loss='categorical_crossentropy', optimizer = 'adam', metrics=['accuracy'])"
   ]
  },
  {
   "cell_type": "code",
   "execution_count": 30,
   "id": "e2d3a643",
   "metadata": {},
   "outputs": [
    {
     "name": "stdout",
     "output_type": "stream",
     "text": [
      "Model: \"sequential\"\n",
      "_________________________________________________________________\n",
      " Layer (type)                Output Shape              Param #   \n",
      "=================================================================\n",
      " dense (Dense)               (None, 8)                 40        \n",
      "                                                                 \n",
      " dense_1 (Dense)             (None, 8)                 72        \n",
      "                                                                 \n",
      " dense_2 (Dense)             (None, 3)                 27        \n",
      "                                                                 \n",
      "=================================================================\n",
      "Total params: 139\n",
      "Trainable params: 139\n",
      "Non-trainable params: 0\n",
      "_________________________________________________________________\n"
     ]
    }
   ],
   "source": [
    "model.summary()"
   ]
  },
  {
   "cell_type": "code",
   "execution_count": 32,
   "id": "582dfac6",
   "metadata": {},
   "outputs": [
    {
     "name": "stdout",
     "output_type": "stream",
     "text": [
      "Epoch 1/150\n",
      "4/4 - 0s - loss: 1.1079 - accuracy: 0.1600 - 16ms/epoch - 4ms/step\n",
      "Epoch 2/150\n",
      "4/4 - 0s - loss: 1.1047 - accuracy: 0.4300 - 26ms/epoch - 6ms/step\n",
      "Epoch 3/150\n",
      "4/4 - 0s - loss: 1.1011 - accuracy: 0.3600 - 18ms/epoch - 5ms/step\n",
      "Epoch 4/150\n",
      "4/4 - 0s - loss: 1.0978 - accuracy: 0.3400 - 22ms/epoch - 6ms/step\n",
      "Epoch 5/150\n",
      "4/4 - 0s - loss: 1.0944 - accuracy: 0.3400 - 21ms/epoch - 5ms/step\n",
      "Epoch 6/150\n",
      "4/4 - 0s - loss: 1.0906 - accuracy: 0.3400 - 28ms/epoch - 7ms/step\n",
      "Epoch 7/150\n",
      "4/4 - 0s - loss: 1.0864 - accuracy: 0.3400 - 20ms/epoch - 5ms/step\n",
      "Epoch 8/150\n",
      "4/4 - 0s - loss: 1.0826 - accuracy: 0.3400 - 33ms/epoch - 8ms/step\n",
      "Epoch 9/150\n",
      "4/4 - 0s - loss: 1.0783 - accuracy: 0.3400 - 44ms/epoch - 11ms/step\n",
      "Epoch 10/150\n",
      "4/4 - 0s - loss: 1.0742 - accuracy: 0.3400 - 28ms/epoch - 7ms/step\n",
      "Epoch 11/150\n",
      "4/4 - 0s - loss: 1.0703 - accuracy: 0.3400 - 23ms/epoch - 6ms/step\n",
      "Epoch 12/150\n",
      "4/4 - 0s - loss: 1.0666 - accuracy: 0.3500 - 27ms/epoch - 7ms/step\n",
      "Epoch 13/150\n",
      "4/4 - 0s - loss: 1.0627 - accuracy: 0.3600 - 24ms/epoch - 6ms/step\n",
      "Epoch 14/150\n",
      "4/4 - 0s - loss: 1.0587 - accuracy: 0.3800 - 21ms/epoch - 5ms/step\n",
      "Epoch 15/150\n",
      "4/4 - 0s - loss: 1.0548 - accuracy: 0.3800 - 36ms/epoch - 9ms/step\n",
      "Epoch 16/150\n",
      "4/4 - 0s - loss: 1.0510 - accuracy: 0.4400 - 18ms/epoch - 4ms/step\n",
      "Epoch 17/150\n",
      "4/4 - 0s - loss: 1.0473 - accuracy: 0.4200 - 32ms/epoch - 8ms/step\n",
      "Epoch 18/150\n",
      "4/4 - 0s - loss: 1.0431 - accuracy: 0.4100 - 21ms/epoch - 5ms/step\n",
      "Epoch 19/150\n",
      "4/4 - 0s - loss: 1.0390 - accuracy: 0.4100 - 19ms/epoch - 5ms/step\n",
      "Epoch 20/150\n",
      "4/4 - 0s - loss: 1.0346 - accuracy: 0.4100 - 23ms/epoch - 6ms/step\n",
      "Epoch 21/150\n",
      "4/4 - 0s - loss: 1.0303 - accuracy: 0.4100 - 25ms/epoch - 6ms/step\n",
      "Epoch 22/150\n",
      "4/4 - 0s - loss: 1.0264 - accuracy: 0.3900 - 48ms/epoch - 12ms/step\n",
      "Epoch 23/150\n",
      "4/4 - 0s - loss: 1.0217 - accuracy: 0.3800 - 30ms/epoch - 7ms/step\n",
      "Epoch 24/150\n",
      "4/4 - 0s - loss: 1.0171 - accuracy: 0.3800 - 20ms/epoch - 5ms/step\n",
      "Epoch 25/150\n",
      "4/4 - 0s - loss: 1.0126 - accuracy: 0.3800 - 27ms/epoch - 7ms/step\n",
      "Epoch 26/150\n",
      "4/4 - 0s - loss: 1.0078 - accuracy: 0.3900 - 24ms/epoch - 6ms/step\n",
      "Epoch 27/150\n",
      "4/4 - 0s - loss: 1.0031 - accuracy: 0.3900 - 84ms/epoch - 21ms/step\n",
      "Epoch 28/150\n",
      "4/4 - 0s - loss: 0.9986 - accuracy: 0.3900 - 45ms/epoch - 11ms/step\n",
      "Epoch 29/150\n",
      "4/4 - 0s - loss: 0.9935 - accuracy: 0.4200 - 47ms/epoch - 12ms/step\n",
      "Epoch 30/150\n",
      "4/4 - 0s - loss: 0.9882 - accuracy: 0.4500 - 29ms/epoch - 7ms/step\n",
      "Epoch 31/150\n",
      "4/4 - 0s - loss: 0.9828 - accuracy: 0.5400 - 24ms/epoch - 6ms/step\n",
      "Epoch 32/150\n",
      "4/4 - 0s - loss: 0.9775 - accuracy: 0.5600 - 35ms/epoch - 9ms/step\n",
      "Epoch 33/150\n",
      "4/4 - 0s - loss: 0.9721 - accuracy: 0.6200 - 40ms/epoch - 10ms/step\n",
      "Epoch 34/150\n",
      "4/4 - 0s - loss: 0.9665 - accuracy: 0.6400 - 23ms/epoch - 6ms/step\n",
      "Epoch 35/150\n",
      "4/4 - 0s - loss: 0.9604 - accuracy: 0.6400 - 20ms/epoch - 5ms/step\n",
      "Epoch 36/150\n",
      "4/4 - 0s - loss: 0.9542 - accuracy: 0.6500 - 20ms/epoch - 5ms/step\n",
      "Epoch 37/150\n",
      "4/4 - 0s - loss: 0.9486 - accuracy: 0.6500 - 22ms/epoch - 5ms/step\n",
      "Epoch 38/150\n",
      "4/4 - 0s - loss: 0.9424 - accuracy: 0.6500 - 28ms/epoch - 7ms/step\n",
      "Epoch 39/150\n",
      "4/4 - 0s - loss: 0.9358 - accuracy: 0.6500 - 19ms/epoch - 5ms/step\n",
      "Epoch 40/150\n",
      "4/4 - 0s - loss: 0.9295 - accuracy: 0.6500 - 23ms/epoch - 6ms/step\n",
      "Epoch 41/150\n",
      "4/4 - 0s - loss: 0.9232 - accuracy: 0.6500 - 20ms/epoch - 5ms/step\n",
      "Epoch 42/150\n",
      "4/4 - 0s - loss: 0.9171 - accuracy: 0.6500 - 25ms/epoch - 6ms/step\n",
      "Epoch 43/150\n",
      "4/4 - 0s - loss: 0.9108 - accuracy: 0.6500 - 23ms/epoch - 6ms/step\n",
      "Epoch 44/150\n",
      "4/4 - 0s - loss: 0.9040 - accuracy: 0.6500 - 18ms/epoch - 5ms/step\n",
      "Epoch 45/150\n",
      "4/4 - 0s - loss: 0.8976 - accuracy: 0.6500 - 23ms/epoch - 6ms/step\n",
      "Epoch 46/150\n",
      "4/4 - 0s - loss: 0.8908 - accuracy: 0.6500 - 26ms/epoch - 7ms/step\n",
      "Epoch 47/150\n",
      "4/4 - 0s - loss: 0.8840 - accuracy: 0.6600 - 32ms/epoch - 8ms/step\n",
      "Epoch 48/150\n",
      "4/4 - 0s - loss: 0.8775 - accuracy: 0.6600 - 26ms/epoch - 7ms/step\n",
      "Epoch 49/150\n",
      "4/4 - 0s - loss: 0.8705 - accuracy: 0.6600 - 27ms/epoch - 7ms/step\n",
      "Epoch 50/150\n",
      "4/4 - 0s - loss: 0.8635 - accuracy: 0.6600 - 20ms/epoch - 5ms/step\n",
      "Epoch 51/150\n",
      "4/4 - 0s - loss: 0.8563 - accuracy: 0.6600 - 26ms/epoch - 7ms/step\n",
      "Epoch 52/150\n",
      "4/4 - 0s - loss: 0.8491 - accuracy: 0.6600 - 25ms/epoch - 6ms/step\n",
      "Epoch 53/150\n",
      "4/4 - 0s - loss: 0.8414 - accuracy: 0.6600 - 24ms/epoch - 6ms/step\n",
      "Epoch 54/150\n",
      "4/4 - 0s - loss: 0.8339 - accuracy: 0.6600 - 32ms/epoch - 8ms/step\n",
      "Epoch 55/150\n",
      "4/4 - 0s - loss: 0.8262 - accuracy: 0.6600 - 33ms/epoch - 8ms/step\n",
      "Epoch 56/150\n",
      "4/4 - 0s - loss: 0.8188 - accuracy: 0.6600 - 31ms/epoch - 8ms/step\n",
      "Epoch 57/150\n",
      "4/4 - 0s - loss: 0.8116 - accuracy: 0.6600 - 19ms/epoch - 5ms/step\n",
      "Epoch 58/150\n",
      "4/4 - 0s - loss: 0.8039 - accuracy: 0.6600 - 24ms/epoch - 6ms/step\n",
      "Epoch 59/150\n",
      "4/4 - 0s - loss: 0.7965 - accuracy: 0.6600 - 19ms/epoch - 5ms/step\n",
      "Epoch 60/150\n",
      "4/4 - 0s - loss: 0.7889 - accuracy: 0.6600 - 24ms/epoch - 6ms/step\n",
      "Epoch 61/150\n",
      "4/4 - 0s - loss: 0.7815 - accuracy: 0.6600 - 22ms/epoch - 5ms/step\n",
      "Epoch 62/150\n",
      "4/4 - 0s - loss: 0.7738 - accuracy: 0.6600 - 23ms/epoch - 6ms/step\n",
      "Epoch 63/150\n",
      "4/4 - 0s - loss: 0.7658 - accuracy: 0.6600 - 19ms/epoch - 5ms/step\n",
      "Epoch 64/150\n",
      "4/4 - 0s - loss: 0.7587 - accuracy: 0.6600 - 22ms/epoch - 5ms/step\n",
      "Epoch 65/150\n",
      "4/4 - 0s - loss: 0.7516 - accuracy: 0.6600 - 26ms/epoch - 7ms/step\n",
      "Epoch 66/150\n",
      "4/4 - 0s - loss: 0.7441 - accuracy: 0.6600 - 24ms/epoch - 6ms/step\n",
      "Epoch 67/150\n",
      "4/4 - 0s - loss: 0.7368 - accuracy: 0.6600 - 28ms/epoch - 7ms/step\n",
      "Epoch 68/150\n",
      "4/4 - 0s - loss: 0.7299 - accuracy: 0.6700 - 25ms/epoch - 6ms/step\n",
      "Epoch 69/150\n",
      "4/4 - 0s - loss: 0.7229 - accuracy: 0.6800 - 22ms/epoch - 6ms/step\n",
      "Epoch 70/150\n",
      "4/4 - 0s - loss: 0.7159 - accuracy: 0.6800 - 29ms/epoch - 7ms/step\n",
      "Epoch 71/150\n",
      "4/4 - 0s - loss: 0.7087 - accuracy: 0.6800 - 19ms/epoch - 5ms/step\n",
      "Epoch 72/150\n",
      "4/4 - 0s - loss: 0.7016 - accuracy: 0.6900 - 24ms/epoch - 6ms/step\n",
      "Epoch 73/150\n",
      "4/4 - 0s - loss: 0.6948 - accuracy: 0.6900 - 24ms/epoch - 6ms/step\n",
      "Epoch 74/150\n",
      "4/4 - 0s - loss: 0.6881 - accuracy: 0.6900 - 22ms/epoch - 5ms/step\n",
      "Epoch 75/150\n",
      "4/4 - 0s - loss: 0.6816 - accuracy: 0.6900 - 24ms/epoch - 6ms/step\n",
      "Epoch 76/150\n",
      "4/4 - 0s - loss: 0.6750 - accuracy: 0.6800 - 20ms/epoch - 5ms/step\n",
      "Epoch 77/150\n",
      "4/4 - 0s - loss: 0.6686 - accuracy: 0.6800 - 25ms/epoch - 6ms/step\n",
      "Epoch 78/150\n",
      "4/4 - 0s - loss: 0.6617 - accuracy: 0.6800 - 21ms/epoch - 5ms/step\n",
      "Epoch 79/150\n",
      "4/4 - 0s - loss: 0.6553 - accuracy: 0.6900 - 21ms/epoch - 5ms/step\n",
      "Epoch 80/150\n",
      "4/4 - 0s - loss: 0.6487 - accuracy: 0.7000 - 39ms/epoch - 10ms/step\n",
      "Epoch 81/150\n",
      "4/4 - 0s - loss: 0.6431 - accuracy: 0.7000 - 27ms/epoch - 7ms/step\n",
      "Epoch 82/150\n",
      "4/4 - 0s - loss: 0.6366 - accuracy: 0.7000 - 27ms/epoch - 7ms/step\n",
      "Epoch 83/150\n",
      "4/4 - 0s - loss: 0.6300 - accuracy: 0.7000 - 23ms/epoch - 6ms/step\n",
      "Epoch 84/150\n",
      "4/4 - 0s - loss: 0.6241 - accuracy: 0.7000 - 24ms/epoch - 6ms/step\n",
      "Epoch 85/150\n",
      "4/4 - 0s - loss: 0.6179 - accuracy: 0.7000 - 27ms/epoch - 7ms/step\n",
      "Epoch 86/150\n",
      "4/4 - 0s - loss: 0.6120 - accuracy: 0.7100 - 25ms/epoch - 6ms/step\n",
      "Epoch 87/150\n",
      "4/4 - 0s - loss: 0.6063 - accuracy: 0.7100 - 25ms/epoch - 6ms/step\n",
      "Epoch 88/150\n",
      "4/4 - 0s - loss: 0.6007 - accuracy: 0.7100 - 27ms/epoch - 7ms/step\n",
      "Epoch 89/150\n",
      "4/4 - 0s - loss: 0.5955 - accuracy: 0.7100 - 30ms/epoch - 7ms/step\n",
      "Epoch 90/150\n",
      "4/4 - 0s - loss: 0.5908 - accuracy: 0.7100 - 52ms/epoch - 13ms/step\n",
      "Epoch 91/150\n",
      "4/4 - 0s - loss: 0.5859 - accuracy: 0.7100 - 47ms/epoch - 12ms/step\n",
      "Epoch 92/150\n",
      "4/4 - 0s - loss: 0.5809 - accuracy: 0.7300 - 24ms/epoch - 6ms/step\n",
      "Epoch 93/150\n",
      "4/4 - 0s - loss: 0.5758 - accuracy: 0.7600 - 24ms/epoch - 6ms/step\n",
      "Epoch 94/150\n",
      "4/4 - 0s - loss: 0.5712 - accuracy: 0.7500 - 23ms/epoch - 6ms/step\n",
      "Epoch 95/150\n",
      "4/4 - 0s - loss: 0.5666 - accuracy: 0.7400 - 29ms/epoch - 7ms/step\n",
      "Epoch 96/150\n",
      "4/4 - 0s - loss: 0.5621 - accuracy: 0.7400 - 24ms/epoch - 6ms/step\n",
      "Epoch 97/150\n",
      "4/4 - 0s - loss: 0.5577 - accuracy: 0.7400 - 29ms/epoch - 7ms/step\n",
      "Epoch 98/150\n",
      "4/4 - 0s - loss: 0.5534 - accuracy: 0.7600 - 24ms/epoch - 6ms/step\n",
      "Epoch 99/150\n",
      "4/4 - 0s - loss: 0.5492 - accuracy: 0.7700 - 24ms/epoch - 6ms/step\n",
      "Epoch 100/150\n",
      "4/4 - 0s - loss: 0.5449 - accuracy: 0.7900 - 36ms/epoch - 9ms/step\n",
      "Epoch 101/150\n",
      "4/4 - 0s - loss: 0.5406 - accuracy: 0.7900 - 23ms/epoch - 6ms/step\n",
      "Epoch 102/150\n",
      "4/4 - 0s - loss: 0.5365 - accuracy: 0.7900 - 30ms/epoch - 8ms/step\n",
      "Epoch 103/150\n",
      "4/4 - 0s - loss: 0.5325 - accuracy: 0.7900 - 24ms/epoch - 6ms/step\n"
     ]
    },
    {
     "name": "stdout",
     "output_type": "stream",
     "text": [
      "Epoch 104/150\n",
      "4/4 - 0s - loss: 0.5286 - accuracy: 0.8300 - 28ms/epoch - 7ms/step\n",
      "Epoch 105/150\n",
      "4/4 - 0s - loss: 0.5248 - accuracy: 0.8500 - 33ms/epoch - 8ms/step\n",
      "Epoch 106/150\n",
      "4/4 - 0s - loss: 0.5213 - accuracy: 0.8600 - 27ms/epoch - 7ms/step\n",
      "Epoch 107/150\n",
      "4/4 - 0s - loss: 0.5177 - accuracy: 0.8600 - 24ms/epoch - 6ms/step\n",
      "Epoch 108/150\n",
      "4/4 - 0s - loss: 0.5140 - accuracy: 0.8600 - 22ms/epoch - 5ms/step\n",
      "Epoch 109/150\n",
      "4/4 - 0s - loss: 0.5106 - accuracy: 0.8600 - 26ms/epoch - 6ms/step\n",
      "Epoch 110/150\n",
      "4/4 - 0s - loss: 0.5065 - accuracy: 0.8500 - 26ms/epoch - 7ms/step\n",
      "Epoch 111/150\n",
      "4/4 - 0s - loss: 0.5028 - accuracy: 0.8500 - 27ms/epoch - 7ms/step\n",
      "Epoch 112/150\n",
      "4/4 - 0s - loss: 0.4997 - accuracy: 0.8500 - 28ms/epoch - 7ms/step\n",
      "Epoch 113/150\n",
      "4/4 - 0s - loss: 0.4963 - accuracy: 0.8600 - 21ms/epoch - 5ms/step\n",
      "Epoch 114/150\n",
      "4/4 - 0s - loss: 0.4931 - accuracy: 0.8600 - 24ms/epoch - 6ms/step\n",
      "Epoch 115/150\n",
      "4/4 - 0s - loss: 0.4901 - accuracy: 0.8600 - 22ms/epoch - 5ms/step\n",
      "Epoch 116/150\n",
      "4/4 - 0s - loss: 0.4867 - accuracy: 0.8600 - 18ms/epoch - 4ms/step\n",
      "Epoch 117/150\n",
      "4/4 - 0s - loss: 0.4841 - accuracy: 0.8600 - 25ms/epoch - 6ms/step\n",
      "Epoch 118/150\n",
      "4/4 - 0s - loss: 0.4817 - accuracy: 0.8400 - 20ms/epoch - 5ms/step\n",
      "Epoch 119/150\n",
      "4/4 - 0s - loss: 0.4791 - accuracy: 0.8100 - 22ms/epoch - 6ms/step\n",
      "Epoch 120/150\n",
      "4/4 - 0s - loss: 0.4763 - accuracy: 0.8300 - 63ms/epoch - 16ms/step\n",
      "Epoch 121/150\n",
      "4/4 - 0s - loss: 0.4734 - accuracy: 0.8500 - 38ms/epoch - 9ms/step\n",
      "Epoch 122/150\n",
      "4/4 - 0s - loss: 0.4703 - accuracy: 0.8600 - 26ms/epoch - 7ms/step\n",
      "Epoch 123/150\n",
      "4/4 - 0s - loss: 0.4672 - accuracy: 0.8600 - 22ms/epoch - 5ms/step\n",
      "Epoch 124/150\n",
      "4/4 - 0s - loss: 0.4656 - accuracy: 0.8500 - 25ms/epoch - 6ms/step\n",
      "Epoch 125/150\n",
      "4/4 - 0s - loss: 0.4623 - accuracy: 0.8500 - 21ms/epoch - 5ms/step\n",
      "Epoch 126/150\n",
      "4/4 - 0s - loss: 0.4596 - accuracy: 0.8600 - 20ms/epoch - 5ms/step\n",
      "Epoch 127/150\n",
      "4/4 - 0s - loss: 0.4570 - accuracy: 0.8600 - 19ms/epoch - 5ms/step\n",
      "Epoch 128/150\n",
      "4/4 - 0s - loss: 0.4545 - accuracy: 0.8600 - 21ms/epoch - 5ms/step\n",
      "Epoch 129/150\n",
      "4/4 - 0s - loss: 0.4521 - accuracy: 0.8600 - 27ms/epoch - 7ms/step\n",
      "Epoch 130/150\n",
      "4/4 - 0s - loss: 0.4500 - accuracy: 0.8600 - 18ms/epoch - 5ms/step\n",
      "Epoch 131/150\n",
      "4/4 - 0s - loss: 0.4474 - accuracy: 0.8600 - 21ms/epoch - 5ms/step\n",
      "Epoch 132/150\n",
      "4/4 - 0s - loss: 0.4451 - accuracy: 0.8800 - 21ms/epoch - 5ms/step\n",
      "Epoch 133/150\n",
      "4/4 - 0s - loss: 0.4427 - accuracy: 0.8900 - 27ms/epoch - 7ms/step\n",
      "Epoch 134/150\n",
      "4/4 - 0s - loss: 0.4403 - accuracy: 0.9000 - 26ms/epoch - 6ms/step\n",
      "Epoch 135/150\n",
      "4/4 - 0s - loss: 0.4382 - accuracy: 0.9200 - 19ms/epoch - 5ms/step\n",
      "Epoch 136/150\n",
      "4/4 - 0s - loss: 0.4360 - accuracy: 0.9200 - 17ms/epoch - 4ms/step\n",
      "Epoch 137/150\n",
      "4/4 - 0s - loss: 0.4336 - accuracy: 0.9200 - 19ms/epoch - 5ms/step\n",
      "Epoch 138/150\n",
      "4/4 - 0s - loss: 0.4317 - accuracy: 0.9200 - 18ms/epoch - 5ms/step\n",
      "Epoch 139/150\n",
      "4/4 - 0s - loss: 0.4293 - accuracy: 0.9200 - 17ms/epoch - 4ms/step\n",
      "Epoch 140/150\n",
      "4/4 - 0s - loss: 0.4274 - accuracy: 0.9200 - 17ms/epoch - 4ms/step\n",
      "Epoch 141/150\n",
      "4/4 - 0s - loss: 0.4254 - accuracy: 0.9300 - 20ms/epoch - 5ms/step\n",
      "Epoch 142/150\n",
      "4/4 - 0s - loss: 0.4233 - accuracy: 0.9400 - 20ms/epoch - 5ms/step\n",
      "Epoch 143/150\n",
      "4/4 - 0s - loss: 0.4211 - accuracy: 0.9400 - 18ms/epoch - 5ms/step\n",
      "Epoch 144/150\n",
      "4/4 - 0s - loss: 0.4192 - accuracy: 0.9200 - 22ms/epoch - 6ms/step\n",
      "Epoch 145/150\n",
      "4/4 - 0s - loss: 0.4168 - accuracy: 0.9200 - 17ms/epoch - 4ms/step\n",
      "Epoch 146/150\n",
      "4/4 - 0s - loss: 0.4148 - accuracy: 0.9200 - 18ms/epoch - 4ms/step\n",
      "Epoch 147/150\n",
      "4/4 - 0s - loss: 0.4129 - accuracy: 0.9200 - 23ms/epoch - 6ms/step\n",
      "Epoch 148/150\n",
      "4/4 - 0s - loss: 0.4110 - accuracy: 0.9200 - 28ms/epoch - 7ms/step\n",
      "Epoch 149/150\n",
      "4/4 - 0s - loss: 0.4090 - accuracy: 0.9200 - 23ms/epoch - 6ms/step\n",
      "Epoch 150/150\n",
      "4/4 - 0s - loss: 0.4070 - accuracy: 0.9200 - 27ms/epoch - 7ms/step\n"
     ]
    },
    {
     "data": {
      "text/plain": [
       "<keras.callbacks.History at 0x7fc31f9950d0>"
      ]
     },
     "execution_count": 32,
     "metadata": {},
     "output_type": "execute_result"
    }
   ],
   "source": [
    "model.fit(scaled_X_train, y_train, epochs=150, verbose=2)"
   ]
  },
  {
   "cell_type": "code",
   "execution_count": 36,
   "id": "b78e0ef0",
   "metadata": {},
   "outputs": [
    {
     "name": "stdout",
     "output_type": "stream",
     "text": [
      "2/2 [==============================] - 0s 2ms/step\n"
     ]
    }
   ],
   "source": [
    "predict_x = model.predict(scaled_X_test)\n",
    "predictions =np.argmax(predict_x,axis=1)"
   ]
  },
  {
   "cell_type": "code",
   "execution_count": 38,
   "id": "94b5aa6f",
   "metadata": {},
   "outputs": [
    {
     "data": {
      "text/plain": [
       "array([1, 0, 2, 1, 1, 0, 1, 2, 1, 1, 2, 0, 0, 0, 0, 1, 2, 1, 1, 2, 0, 2,\n",
       "       0, 2, 2, 2, 2, 2, 0, 0, 0, 0, 1, 0, 0, 2, 1, 0, 0, 0, 2, 1, 1, 0,\n",
       "       0, 1, 2, 2, 1, 2])"
      ]
     },
     "execution_count": 38,
     "metadata": {},
     "output_type": "execute_result"
    }
   ],
   "source": [
    "y_test.argmax(axis=1)"
   ]
  },
  {
   "cell_type": "code",
   "execution_count": 39,
   "id": "e9f243bb",
   "metadata": {},
   "outputs": [],
   "source": [
    "from sklearn.metrics import confusion_matrix, classification_report, accuracy_score"
   ]
  },
  {
   "cell_type": "code",
   "execution_count": 40,
   "id": "77b253d9",
   "metadata": {},
   "outputs": [
    {
     "data": {
      "text/plain": [
       "array([[19,  0,  0],\n",
       "       [ 0, 11,  4],\n",
       "       [ 0,  0, 16]])"
      ]
     },
     "execution_count": 40,
     "metadata": {},
     "output_type": "execute_result"
    }
   ],
   "source": [
    "confusion_matrix(y_test.argmax(axis=1), predictions)"
   ]
  },
  {
   "cell_type": "code",
   "execution_count": 41,
   "id": "9f08eb4c",
   "metadata": {},
   "outputs": [
    {
     "name": "stdout",
     "output_type": "stream",
     "text": [
      "              precision    recall  f1-score   support\n",
      "\n",
      "           0       1.00      1.00      1.00        19\n",
      "           1       1.00      0.73      0.85        15\n",
      "           2       0.80      1.00      0.89        16\n",
      "\n",
      "    accuracy                           0.92        50\n",
      "   macro avg       0.93      0.91      0.91        50\n",
      "weighted avg       0.94      0.92      0.92        50\n",
      "\n"
     ]
    }
   ],
   "source": [
    "print(classification_report(y_test.argmax(axis=1), predictions))"
   ]
  },
  {
   "cell_type": "code",
   "execution_count": 42,
   "id": "e4792b3d",
   "metadata": {},
   "outputs": [
    {
     "data": {
      "text/plain": [
       "0.92"
      ]
     },
     "execution_count": 42,
     "metadata": {},
     "output_type": "execute_result"
    }
   ],
   "source": [
    "accuracy_score(y_test.argmax(axis=1), predictions)"
   ]
  },
  {
   "cell_type": "code",
   "execution_count": 43,
   "id": "ee093981",
   "metadata": {},
   "outputs": [],
   "source": [
    "model.save('myfirstmodel.h5')"
   ]
  },
  {
   "cell_type": "code",
   "execution_count": 44,
   "id": "abfafae2",
   "metadata": {},
   "outputs": [],
   "source": [
    "from keras.models import load_model"
   ]
  },
  {
   "cell_type": "code",
   "execution_count": 45,
   "id": "a7ee568f",
   "metadata": {},
   "outputs": [],
   "source": [
    "new_model = load_model('myfirstmodel.h5')"
   ]
  },
  {
   "cell_type": "code",
   "execution_count": 47,
   "id": "b8a74e3d",
   "metadata": {},
   "outputs": [
    {
     "name": "stdout",
     "output_type": "stream",
     "text": [
      "2/2 [==============================] - 0s 2ms/step\n"
     ]
    }
   ],
   "source": [
    "predict_x = new_model.predict(scaled_X_test)\n",
    "predictions =np.argmax(predict_x,axis=1)"
   ]
  },
  {
   "cell_type": "code",
   "execution_count": 48,
   "id": "b560f159",
   "metadata": {},
   "outputs": [
    {
     "name": "stdout",
     "output_type": "stream",
     "text": [
      "              precision    recall  f1-score   support\n",
      "\n",
      "           0       1.00      1.00      1.00        19\n",
      "           1       1.00      0.73      0.85        15\n",
      "           2       0.80      1.00      0.89        16\n",
      "\n",
      "    accuracy                           0.92        50\n",
      "   macro avg       0.93      0.91      0.91        50\n",
      "weighted avg       0.94      0.92      0.92        50\n",
      "\n"
     ]
    }
   ],
   "source": [
    "print(classification_report(y_test.argmax(axis=1), predictions))"
   ]
  },
  {
   "cell_type": "code",
   "execution_count": null,
   "id": "3714c316",
   "metadata": {},
   "outputs": [],
   "source": []
  }
 ],
 "metadata": {
  "kernelspec": {
   "display_name": "Python 3 (ipykernel)",
   "language": "python",
   "name": "python3"
  },
  "language_info": {
   "codemirror_mode": {
    "name": "ipython",
    "version": 3
   },
   "file_extension": ".py",
   "mimetype": "text/x-python",
   "name": "python",
   "nbconvert_exporter": "python",
   "pygments_lexer": "ipython3",
   "version": "3.9.12"
  }
 },
 "nbformat": 4,
 "nbformat_minor": 5
}
