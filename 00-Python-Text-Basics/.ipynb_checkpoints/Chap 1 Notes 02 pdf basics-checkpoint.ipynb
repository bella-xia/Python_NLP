{
 "cells": [
  {
   "cell_type": "code",
   "execution_count": 2,
   "id": "e9dbfec9",
   "metadata": {},
   "outputs": [
    {
     "name": "stdout",
     "output_type": "stream",
     "text": [
      "Collecting PyPDF3\n",
      "  Downloading PyPDF3-1.0.6.tar.gz (294 kB)\n",
      "\u001b[K     |████████████████████████████████| 294 kB 3.1 MB/s eta 0:00:01\n",
      "\u001b[?25hRequirement already satisfied: tqdm in /Users/bellaxia/opt/anaconda3/lib/python3.9/site-packages (from PyPDF3) (4.64.0)\n",
      "Building wheels for collected packages: PyPDF3\n",
      "  Building wheel for PyPDF3 (setup.py) ... \u001b[?25ldone\n",
      "\u001b[?25h  Created wheel for PyPDF3: filename=PyPDF3-1.0.6-py3-none-any.whl size=62885 sha256=b3e876a6bab5e002fed5be8b5174174364322df4189dc179291d699b75c1a14c\n",
      "  Stored in directory: /Users/bellaxia/Library/Caches/pip/wheels/15/9e/78/4648741042e251b4c5645f564f380d64157791c6a389711151\n",
      "Successfully built PyPDF3\n",
      "Installing collected packages: PyPDF3\n",
      "Successfully installed PyPDF3-1.0.6\n",
      "Note: you may need to restart the kernel to use updated packages.\n"
     ]
    }
   ],
   "source": [
    "pip install PyPDF3"
   ]
  },
  {
   "cell_type": "code",
   "execution_count": 3,
   "id": "e26c9e24",
   "metadata": {},
   "outputs": [],
   "source": [
    "import PyPDF3"
   ]
  },
  {
   "cell_type": "code",
   "execution_count": 4,
   "id": "cc938462",
   "metadata": {},
   "outputs": [],
   "source": [
    "myfile = open('US_Declaration.pdf', mode='rb')"
   ]
  },
  {
   "cell_type": "code",
   "execution_count": 5,
   "id": "83d1a1db",
   "metadata": {},
   "outputs": [],
   "source": [
    "pdf_reader = PyPDF3.PdfFileReader(myfile)"
   ]
  },
  {
   "cell_type": "code",
   "execution_count": 6,
   "id": "dc8fc6ad",
   "metadata": {},
   "outputs": [
    {
     "data": {
      "text/plain": [
       "5"
      ]
     },
     "execution_count": 6,
     "metadata": {},
     "output_type": "execute_result"
    }
   ],
   "source": [
    "pdf_reader.numPages"
   ]
  },
  {
   "cell_type": "code",
   "execution_count": 7,
   "id": "25f5a0ac",
   "metadata": {},
   "outputs": [],
   "source": [
    "page_one = pdf_reader.getPage(0)"
   ]
  },
  {
   "cell_type": "code",
   "execution_count": 8,
   "id": "44f94633",
   "metadata": {},
   "outputs": [
    {
     "data": {
      "text/plain": [
       "\"Declaration of Independence\\nIN CONGRESS, July 4, 1776.\\n \\nThe unanimous Declaration of the thirteen united States of America,\\n \\nWhen in the Course of human events, it becomes necessary for one people to dissolve the\\n\\npolitical bands which have connected them with another, and to assume among the powers of the\\n\\nearth, the separate and equal station to which the Laws of Nature and of Nature's God entitle\\n\\nthem, a decent respect to the opinions of mankind requires that they should declare the causes\\n\\nwhich impel them to the separation. \\n\\nWe hold these truths to be self-evident, that all men are created equal, that they are endowed by\\n\\ntheir Creator with certain unalienable Rights, that among these are Life, Liberty and the pursuit\\nof Happiness.ŠThat to secure these rights, Governments are instituted among Men, deriving\\n\\ntheir just powers from the consent of the governed,ŠThat whenever any Form of Government\\nbecomes destructive of these ends, it is the Right of the People to alter or to abolish it, and to\\ninstitute new Government, laying its foundation on such principles and organizing its powers in\\nsuch form, as to them shall seem most likely to effect their Safety and Happiness. Prudence,\\n\\nindeed, will dictate that Governments long established should not be changed for light and\\n\\ntransient causes; and accordingly all experience hath shewn, that mankind are more disposed to\\nsuffer, while evils are sufferable, than to right themselves by abolishing the forms to which they\\n\\nare accustomed. But when a long train of abuses and usurpations, pursuing invariably the same\\nObject evinces a design to reduce them under absolute Despotism, it is their right, it is their duty,\\nto throw off such Government, and to provide new Guards for their future securit\\ny\\n.ŠSuch has\\nbeen the patient sufferance of these Colonies; and such is now the necessity which constrains\\n\\nthem to alter their former Systems of Government. The history of the present King of Great\\n\\nBritain is a history of repeated injuries and usurpations, all having in direct object the\\nestablishment of an absolute Tyranny over these States. To prove this, let Facts be submitted to a\\ncandid world. \\nHe has refused his Assent to Laws, the most wholesome and necessary for the\\npublic good.\\n\\nHe has forbidden his Governors to pass Laws of immediate and pressing\\n\\nimportance, unless suspended in their operation till his Assent should be obtained;\\n\\nand when so suspended, he has utterly neglected to attend to them.\\n\\nHe has refused to pass other Laws for the accommodation of large districts of\\npeople, unless those people would relinquish the right of Representation in the\\n\\nLegislature, a right inestimable to them and formidable to tyrants only. \\n\\nHe has called together legislative bodies at places unusual, uncomfortable, and distant\\n\\nfrom the depository of their public Records, for the sole purpose of fatiguing them into\\ncompliance with his measures.\\n\""
      ]
     },
     "execution_count": 8,
     "metadata": {},
     "output_type": "execute_result"
    }
   ],
   "source": [
    "page_one.extractText()"
   ]
  },
  {
   "cell_type": "code",
   "execution_count": 9,
   "id": "28a015c3",
   "metadata": {},
   "outputs": [
    {
     "name": "stdout",
     "output_type": "stream",
     "text": [
      "Declaration of Independence\n",
      "IN CONGRESS, July 4, 1776.\n",
      " \n",
      "The unanimous Declaration of the thirteen united States of America,\n",
      " \n",
      "When in the Course of human events, it becomes necessary for one people to dissolve the\n",
      "\n",
      "political bands which have connected them with another, and to assume among the powers of the\n",
      "\n",
      "earth, the separate and equal station to which the Laws of Nature and of Nature's God entitle\n",
      "\n",
      "them, a decent respect to the opinions of mankind requires that they should declare the causes\n",
      "\n",
      "which impel them to the separation. \n",
      "\n",
      "We hold these truths to be self-evident, that all men are created equal, that they are endowed by\n",
      "\n",
      "their Creator with certain unalienable Rights, that among these are Life, Liberty and the pursuit\n",
      "of Happiness.ŠThat to secure these rights, Governments are instituted among Men, deriving\n",
      "\n",
      "their just powers from the consent of the governed,ŠThat whenever any Form of Government\n",
      "becomes destructive of these ends, it is the Right of the People to alter or to abolish it, and to\n",
      "institute new Government, laying its foundation on such principles and organizing its powers in\n",
      "such form, as to them shall seem most likely to effect their Safety and Happiness. Prudence,\n",
      "\n",
      "indeed, will dictate that Governments long established should not be changed for light and\n",
      "\n",
      "transient causes; and accordingly all experience hath shewn, that mankind are more disposed to\n",
      "suffer, while evils are sufferable, than to right themselves by abolishing the forms to which they\n",
      "\n",
      "are accustomed. But when a long train of abuses and usurpations, pursuing invariably the same\n",
      "Object evinces a design to reduce them under absolute Despotism, it is their right, it is their duty,\n",
      "to throw off such Government, and to provide new Guards for their future securit\n",
      "y\n",
      ".ŠSuch has\n",
      "been the patient sufferance of these Colonies; and such is now the necessity which constrains\n",
      "\n",
      "them to alter their former Systems of Government. The history of the present King of Great\n",
      "\n",
      "Britain is a history of repeated injuries and usurpations, all having in direct object the\n",
      "establishment of an absolute Tyranny over these States. To prove this, let Facts be submitted to a\n",
      "candid world. \n",
      "He has refused his Assent to Laws, the most wholesome and necessary for the\n",
      "public good.\n",
      "\n",
      "He has forbidden his Governors to pass Laws of immediate and pressing\n",
      "\n",
      "importance, unless suspended in their operation till his Assent should be obtained;\n",
      "\n",
      "and when so suspended, he has utterly neglected to attend to them.\n",
      "\n",
      "He has refused to pass other Laws for the accommodation of large districts of\n",
      "people, unless those people would relinquish the right of Representation in the\n",
      "\n",
      "Legislature, a right inestimable to them and formidable to tyrants only. \n",
      "\n",
      "He has called together legislative bodies at places unusual, uncomfortable, and distant\n",
      "\n",
      "from the depository of their public Records, for the sole purpose of fatiguing them into\n",
      "compliance with his measures.\n",
      "\n"
     ]
    }
   ],
   "source": [
    "print(page_one.extractText())"
   ]
  },
  {
   "cell_type": "code",
   "execution_count": 10,
   "id": "e7f42d2d",
   "metadata": {},
   "outputs": [],
   "source": [
    "mytext = page_one.extractText()"
   ]
  },
  {
   "cell_type": "code",
   "execution_count": 11,
   "id": "42bcc621",
   "metadata": {},
   "outputs": [],
   "source": [
    "myfile.close()"
   ]
  },
  {
   "cell_type": "code",
   "execution_count": 13,
   "id": "a0dada65",
   "metadata": {},
   "outputs": [],
   "source": [
    "f = open('US_Declaration.pdf', 'rb')"
   ]
  },
  {
   "cell_type": "code",
   "execution_count": 14,
   "id": "c2ca5b93",
   "metadata": {},
   "outputs": [],
   "source": [
    "pdf_reader = PyPDF3.PdfFileReader(f)"
   ]
  },
  {
   "cell_type": "code",
   "execution_count": 15,
   "id": "8ced8e4c",
   "metadata": {},
   "outputs": [],
   "source": [
    "first_page = pdf_reader.getPage(0)"
   ]
  },
  {
   "cell_type": "code",
   "execution_count": 16,
   "id": "d251b184",
   "metadata": {},
   "outputs": [],
   "source": [
    "pdf_writer = PyPDF3.PdfFileWriter()"
   ]
  },
  {
   "cell_type": "code",
   "execution_count": 17,
   "id": "328607d1",
   "metadata": {},
   "outputs": [],
   "source": [
    "pdf_writer.addPage(first_page)"
   ]
  },
  {
   "cell_type": "code",
   "execution_count": 18,
   "id": "855ed80f",
   "metadata": {},
   "outputs": [],
   "source": [
    "pdf_output = open('MY_BRAND_NEW.pdf', 'wb')"
   ]
  },
  {
   "cell_type": "code",
   "execution_count": 19,
   "id": "30ea2e3a",
   "metadata": {},
   "outputs": [],
   "source": [
    "pdf_writer.write(pdf_output)"
   ]
  },
  {
   "cell_type": "code",
   "execution_count": 20,
   "id": "a47b43de",
   "metadata": {},
   "outputs": [],
   "source": [
    "pdf_output.close()"
   ]
  },
  {
   "cell_type": "code",
   "execution_count": 21,
   "id": "841a424f",
   "metadata": {},
   "outputs": [],
   "source": [
    "f.close()"
   ]
  },
  {
   "cell_type": "code",
   "execution_count": 22,
   "id": "51494b9a",
   "metadata": {},
   "outputs": [],
   "source": [
    "brand_new = open('MY_BRAND_NEW.pdf', 'rb')"
   ]
  },
  {
   "cell_type": "code",
   "execution_count": 23,
   "id": "5cd4a29b",
   "metadata": {},
   "outputs": [],
   "source": [
    "pdf_reader = PyPDF3.PdfFileReader(brand_new)"
   ]
  },
  {
   "cell_type": "code",
   "execution_count": 24,
   "id": "066a8feb",
   "metadata": {},
   "outputs": [
    {
     "data": {
      "text/plain": [
       "1"
      ]
     },
     "execution_count": 24,
     "metadata": {},
     "output_type": "execute_result"
    }
   ],
   "source": [
    "pdf_reader.numPages"
   ]
  },
  {
   "cell_type": "code",
   "execution_count": 31,
   "id": "393eb7aa",
   "metadata": {},
   "outputs": [],
   "source": [
    "f = open('US_Declaration.pdf', 'rb')"
   ]
  },
  {
   "cell_type": "code",
   "execution_count": 32,
   "id": "1473f4f9",
   "metadata": {},
   "outputs": [],
   "source": [
    "pdf_text = [0]"
   ]
  },
  {
   "cell_type": "code",
   "execution_count": 33,
   "id": "06369eaa",
   "metadata": {},
   "outputs": [],
   "source": [
    "pdf_reader = PyPDF3.PdfFileReader(f)"
   ]
  },
  {
   "cell_type": "code",
   "execution_count": 34,
   "id": "6b476096",
   "metadata": {},
   "outputs": [],
   "source": [
    "for p in range(pdf_reader.numPages):\n",
    "    page = pdf_reader.getPage(p)\n",
    "    \n",
    "    pdf_text.append(page.extractText())\n",
    "\n",
    "f.close()"
   ]
  },
  {
   "cell_type": "code",
   "execution_count": 35,
   "id": "c4f4f381",
   "metadata": {},
   "outputs": [
    {
     "data": {
      "text/plain": [
       "6"
      ]
     },
     "execution_count": 35,
     "metadata": {},
     "output_type": "execute_result"
    }
   ],
   "source": [
    "len(pdf_text)"
   ]
  },
  {
   "cell_type": "code",
   "execution_count": null,
   "id": "6cef3a45",
   "metadata": {},
   "outputs": [],
   "source": []
  }
 ],
 "metadata": {
  "kernelspec": {
   "display_name": "Python 3 (ipykernel)",
   "language": "python",
   "name": "python3"
  },
  "language_info": {
   "codemirror_mode": {
    "name": "ipython",
    "version": 3
   },
   "file_extension": ".py",
   "mimetype": "text/x-python",
   "name": "python",
   "nbconvert_exporter": "python",
   "pygments_lexer": "ipython3",
   "version": "3.9.12"
  }
 },
 "nbformat": 4,
 "nbformat_minor": 5
}
